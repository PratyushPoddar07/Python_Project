{
 "cells": [
  {
   "cell_type": "markdown",
   "id": "3ff3232c-c471-425b-b7f1-5b56434eccdc",
   "metadata": {},
   "source": [
    "## Read & show img"
   ]
  },
  {
   "cell_type": "code",
   "execution_count": 1,
   "id": "7dad7363-d816-46ee-a939-8cbd631c3999",
   "metadata": {},
   "outputs": [],
   "source": [
    "import cv2 as cv\n"
   ]
  },
  {
   "cell_type": "code",
   "execution_count": 2,
   "id": "0b3182f8-568c-4d07-bd65-937c83f33464",
   "metadata": {},
   "outputs": [],
   "source": [
    "img = cv.imread('Photos/group 1.jpg') # image read\n",
    "# img show\n",
    "cv.imshow(\"shuvam tech\",img)\n",
    "cv.waitKey(10000) # image frame wait  time -> ms and 0 -> pass keyboard any key\n",
    "cv.destroyAllWindows() # all windows close\n",
    "# cv.destroyWindow(\"shuvam tech\")  # only one window close"
   ]
  },
  {
   "cell_type": "markdown",
   "id": "da7101ef-3b49-4b3f-891b-ea2cc5c2b7b8",
   "metadata": {},
   "source": [
    "## Show Multiple Image and slide show\n"
   ]
  },
  {
   "cell_type": "code",
   "execution_count": 3,
   "id": "f7c174e1-8d76-4198-8ddc-f272b0f94db1",
   "metadata": {},
   "outputs": [],
   "source": [
    "import cv2 as cv\n",
    "import numpy as np"
   ]
  },
  {
   "cell_type": "code",
   "execution_count": 4,
   "id": "05f8837e-0150-4560-9342-257b343a4b54",
   "metadata": {},
   "outputs": [],
   "source": [
    "img  = cv.imread(r\"C:\\Users\\shuva\\Desktop\\Python_Project\\openCV\\Photos\\lady.jpg\")\n",
    "re_img = cv.resize(img,(500,600))\n",
    "cv.imshow(\"shuv Cube\",re_img)\n",
    "cv.waitKey(0)\n",
    "cv.destroyAllWindows()"
   ]
  },
  {
   "cell_type": "markdown",
   "id": "f1a00a1f-670d-4759-bfca-4b4e7d088be0",
   "metadata": {},
   "source": [
    "- in a frame storing multiple img\n",
    "  "
   ]
  },
  {
   "cell_type": "code",
   "execution_count": 12,
   "id": "c79bddbc-055f-4d05-838b-056b6ec7bc4e",
   "metadata": {},
   "outputs": [
    {
     "data": {
      "text/plain": [
       "array([1, 2, 3, 1, 2, 3, 1, 2, 3, 1, 2, 3])"
      ]
     },
     "execution_count": 12,
     "metadata": {},
     "output_type": "execute_result"
    }
   ],
   "source": [
    "v =np.array([1,2,3,1,2,3])\n",
    "np.hstack((v,v))"
   ]
  },
  {
   "cell_type": "code",
   "execution_count": 6,
   "id": "2201669e-6696-4d10-83b8-fdd3fcd0fd03",
   "metadata": {},
   "outputs": [
    {
     "data": {
      "text/plain": [
       "array([[[82, 81, 85],\n",
       "        [83, 82, 86],\n",
       "        [83, 82, 86],\n",
       "        ...,\n",
       "        [70, 73, 77],\n",
       "        [69, 72, 76],\n",
       "        [69, 72, 76]],\n",
       "\n",
       "       [[82, 81, 85],\n",
       "        [82, 81, 85],\n",
       "        [83, 82, 86],\n",
       "        ...,\n",
       "        [71, 74, 78],\n",
       "        [71, 74, 78],\n",
       "        [70, 73, 77]],\n",
       "\n",
       "       [[82, 81, 85],\n",
       "        [82, 81, 85],\n",
       "        [82, 81, 85],\n",
       "        ...,\n",
       "        [73, 76, 80],\n",
       "        [73, 76, 80],\n",
       "        [73, 76, 80]],\n",
       "\n",
       "       ...,\n",
       "\n",
       "       [[83, 79, 78],\n",
       "        [84, 80, 79],\n",
       "        [85, 81, 80],\n",
       "        ...,\n",
       "        [81, 79, 78],\n",
       "        [81, 79, 78],\n",
       "        [81, 79, 78]],\n",
       "\n",
       "       [[83, 79, 78],\n",
       "        [84, 80, 79],\n",
       "        [85, 81, 80],\n",
       "        ...,\n",
       "        [81, 79, 78],\n",
       "        [80, 78, 77],\n",
       "        [80, 78, 77]],\n",
       "\n",
       "       [[83, 79, 78],\n",
       "        [84, 80, 79],\n",
       "        [84, 80, 79],\n",
       "        ...,\n",
       "        [81, 79, 78],\n",
       "        [80, 78, 77],\n",
       "        [80, 78, 77]]], dtype=uint8)"
      ]
     },
     "execution_count": 6,
     "metadata": {},
     "output_type": "execute_result"
    }
   ],
   "source": [
    "img  = cv.imread(r\"C:\\Users\\shuva\\Desktop\\Python_Project\\openCV\\Photos\\lady.jpg\")\n",
    "img #RGB"
   ]
  },
  {
   "cell_type": "code",
   "execution_count": 20,
   "id": "f55b5610-ded7-4127-bfad-f1ec22a0cfcf",
   "metadata": {},
   "outputs": [],
   "source": [
    "img = cv.imread(r\"C:\\Users\\shuva\\Desktop\\Python_Project\\openCV\\Photos\\group 2.jpg\")\n",
    "re_img = cv.resize(img,(300,300))\n",
    "h = np.hstack((re_img,re_img,re_img)) # to join 2 img -> horizontaly\n",
    "v = np.vstack((h,h)) #join 3 img  -> vertically\n",
    "\n",
    "cv.imshow(\"shuvam 4\",v)\n",
    "cv.waitKey(0)\n",
    "cv.destroyAllWindows()"
   ]
  },
  {
   "cell_type": "markdown",
   "id": "9ae1b305-99a5-4f61-97b0-c287fcf63a6c",
   "metadata": {},
   "source": [
    "## Slideshow"
   ]
  },
  {
   "cell_type": "code",
   "execution_count": 21,
   "id": "da2921d9-a4fe-4e31-92a1-30d20893165c",
   "metadata": {},
   "outputs": [],
   "source": [
    "import os"
   ]
  },
  {
   "cell_type": "code",
   "execution_count": 22,
   "id": "1f457fc9-0667-4027-a432-3153f562c06a",
   "metadata": {},
   "outputs": [
    {
     "data": {
      "text/plain": [
       "['cat.jpg',\n",
       " 'cats 2.jpg',\n",
       " 'cats.jpg',\n",
       " 'cat_large.jpg',\n",
       " 'group 1.jpg',\n",
       " 'group 2.jpg',\n",
       " 'lady.jpg',\n",
       " 'park.jpg']"
      ]
     },
     "execution_count": 22,
     "metadata": {},
     "output_type": "execute_result"
    }
   ],
   "source": [
    "list_name = os.listdir(r\"C:\\Users\\shuva\\Desktop\\Python_Project\\openCV\\Photos\")\n",
    "list_name"
   ]
  },
  {
   "cell_type": "code",
   "execution_count": 25,
   "id": "6a1df3fc-6aae-4fe3-8077-65368bccb190",
   "metadata": {},
   "outputs": [],
   "source": [
    "for name in list_name:\n",
    "    path = \"C:\\\\Users\\\\shuva\\\\Desktop\\\\Python_Project\\\\openCV\\\\Photos\"\n",
    "    img_name = path + \"\\\\\"+name\n",
    "    img = cv.imread(img_name)\n",
    "    img =cv.resize(img,(300,400))\n",
    "    cv.imshow(\"Shuvam 5\",img)\n",
    "    cv.waitKey(0)\n",
    "cv.destroyAllWindows()"
   ]
  },
  {
   "cell_type": "code",
   "execution_count": null,
   "id": "cad9dd08-e10c-4637-880b-8f4e595100e4",
   "metadata": {},
   "outputs": [],
   "source": []
  }
 ],
 "metadata": {
  "kernelspec": {
   "display_name": "Python 3 (ipykernel)",
   "language": "python",
   "name": "python3"
  },
  "language_info": {
   "codemirror_mode": {
    "name": "ipython",
    "version": 3
   },
   "file_extension": ".py",
   "mimetype": "text/x-python",
   "name": "python",
   "nbconvert_exporter": "python",
   "pygments_lexer": "ipython3",
   "version": "3.12.4"
  }
 },
 "nbformat": 4,
 "nbformat_minor": 5
}
