{
 "cells": [
  {
   "cell_type": "code",
   "execution_count": 6,
   "metadata": {},
   "outputs": [
    {
     "name": "stdout",
     "output_type": "stream",
     "text": [
      "Hello pratyush\n"
     ]
    }
   ],
   "source": [
    "class Student:\n",
    "    # def __init__(self,name,marks):\n",
    "    #     self.name =name\n",
    "    #     self.marks =marks\n",
    "    #     print(\"adding new student in Database...\")\n",
    "\n",
    "    def __init__(self,fullname):\n",
    "        self.name = fullname\n",
    "\n",
    "    def hello(self):\n",
    "        print(\"Hello\",self.name)\n",
    "\n",
    "s2=Student(\"pratyush\")\n",
    "s2.hello()\n",
    "\n",
    "# s1=Student(\"Karan\",97)\n",
    "# print(s1.name,s1.marks)"
   ]
  },
  {
   "cell_type": "code",
   "execution_count": 16,
   "metadata": {},
   "outputs": [
    {
     "name": "stdout",
     "output_type": "stream",
     "text": [
      "Hello karan\n",
      "Welcome student, karan\n",
      "Name: shuvam, Marks: 78\n"
     ]
    }
   ],
   "source": [
    "class stud:\n",
    "    def __init__(self, fullname, marks=None):\n",
    "        self.name = fullname\n",
    "        self.marks = marks\n",
    "        \n",
    "    def hello(self):\n",
    "        print(\"Hello\", self.name)\n",
    "        \n",
    "    def welcome(self):\n",
    "        print(\"Welcome student,\", self.name)\n",
    "        \n",
    "    def get_marks(self):\n",
    "        if self.marks is not None:\n",
    "            return self.marks\n",
    "        else:\n",
    "            return \"Marks not available\"\n",
    "            \n",
    "# Creating student objects\n",
    "s1 = stud(\"karan\")\n",
    "s1.hello()\n",
    "s1.welcome()\n",
    "\n",
    "s1 = stud(\"shuvam\", 78)\n",
    "print(f\"Name: {s1.name}, Marks: {s1.get_marks()}\")\n"
   ]
  },
  {
   "cell_type": "code",
   "execution_count": 19,
   "metadata": {},
   "outputs": [
    {
     "name": "stdout",
     "output_type": "stream",
     "text": [
      "hi tony stark Your avg score is:  98.0\n",
      "hi Pratyush Your avg score is:  98.0\n"
     ]
    }
   ],
   "source": [
    "class Student:\n",
    "    def __init__(self,name,marks):\n",
    "        self.name=name\n",
    "        self.marks =marks\n",
    "    def get_avg(self):\n",
    "        sum =0\n",
    "        for val in self.marks:\n",
    "            sum += val\n",
    "        print(\"hi\", self.name , \"Your avg score is: \", sum/3)\n",
    "\n",
    "s1 = Student(\"tony stark\",[99,98,97])\n",
    "s1.get_avg()\n",
    "s1.name = \"Pratyush\"\n",
    "s1.get_avg()"
   ]
  },
  {
   "cell_type": "code",
   "execution_count": 24,
   "metadata": {},
   "outputs": [
    {
     "name": "stdout",
     "output_type": "stream",
     "text": [
      "Rs.  1000 was debited\n",
      "Total balance =  9000\n",
      "Rs.  5000 was credited\n",
      "Total amount:  14000\n"
     ]
    }
   ],
   "source": [
    "class Acoount:\n",
    "    def __init__(self,bal,acc):\n",
    "        self.balance =bal\n",
    "        self.account_no =acc\n",
    "\n",
    "    def debit(self,amount):\n",
    "        self.balance -= amount\n",
    "        print(\"Rs. \",amount,\"was debited\")\n",
    "        print(\"Total balance = \",self.get_balance())\n",
    "    \n",
    "    def credit(self,amount):\n",
    "        self.balance += amount\n",
    "        print(\"Rs. \",amount,\"was credited\")\n",
    "        print(\"Total amount: \",self.get_balance())\n",
    "    def get_balance(self):\n",
    "        return self.balance\n",
    "acc1 = Acoount(10000,12345)\n",
    "acc1.debit(1000)\n",
    "acc1.credit(5000)"
   ]
  }
 ],
 "metadata": {
  "kernelspec": {
   "display_name": "Python 3",
   "language": "python",
   "name": "python3"
  },
  "language_info": {
   "codemirror_mode": {
    "name": "ipython",
    "version": 3
   },
   "file_extension": ".py",
   "mimetype": "text/x-python",
   "name": "python",
   "nbconvert_exporter": "python",
   "pygments_lexer": "ipython3",
   "version": "3.12.3"
  }
 },
 "nbformat": 4,
 "nbformat_minor": 2
}
